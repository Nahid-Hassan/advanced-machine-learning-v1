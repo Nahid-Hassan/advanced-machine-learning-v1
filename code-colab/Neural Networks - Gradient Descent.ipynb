{
 "cells": [
  {
   "cell_type": "markdown",
   "metadata": {},
   "source": [
    "## Gradient Descent"
   ]
  },
  {
   "cell_type": "code",
   "execution_count": 1,
   "metadata": {},
   "outputs": [],
   "source": [
    "%matplotlib inline\n",
    "\n",
    "import matplotlib.pyplot as plt\n",
    "from matplotlib.animation import FuncAnimation\n",
    "import math\n",
    "import numpy as np"
   ]
  },
  {
   "cell_type": "code",
   "execution_count": 2,
   "metadata": {},
   "outputs": [],
   "source": [
    "x = [.5, 2.3, 2.9]\n",
    "y = [1.4, 1.9, 3.2]"
   ]
  },
  {
   "cell_type": "code",
   "execution_count": 3,
   "metadata": {},
   "outputs": [
    {
     "data": {
      "text/plain": [
       "<matplotlib.collections.PathCollection at 0x7f5a4fa997c0>"
      ]
     },
     "execution_count": 3,
     "metadata": {},
     "output_type": "execute_result"
    },
    {
     "data": {
      "image/png": "[encoded data removed]",
      "text/plain": [
       "<Figure size 432x288 with 1 Axes>"
      ]
     },
     "metadata": {
      "needs_background": "light"
     },
     "output_type": "display_data"
    }
   ],
   "source": [
    "plt.scatter(x,y, marker='o')"
   ]
  },
  {
   "cell_type": "code",
   "execution_count": 4,
   "metadata": {},
   "outputs": [],
   "source": [
    "def sum_of_squared_residuals(x_data, y_data ,intercept, slope):\n",
    "    residuals = 0\n",
    "    predicted = []\n",
    "    \n",
    "    for x, y in zip(x_data, y_data):\n",
    "        pred = (intercept + (slope * x)) ** 2\n",
    "        predicted.append(pred)\n",
    "        residuals += (y - pred)\n",
    "    \n",
    "    return (residuals, predicted)"
   ]
  },
  {
   "cell_type": "code",
   "execution_count": 5,
   "metadata": {},
   "outputs": [
    {
     "data": {
      "text/plain": [
       "(0.7860800000000008, [0.1024, 2.166784, 3.4447359999999994])"
      ]
     },
     "execution_count": 5,
     "metadata": {},
     "output_type": "execute_result"
    }
   ],
   "source": [
    "sum_of_squared_residuals(x, y, intercept=0, slope=.64)"
   ]
  },
  {
   "cell_type": "code",
   "execution_count": 6,
   "metadata": {},
   "outputs": [],
   "source": [
    "def animate(i):\n",
    "    plt.cla()\n",
    "    \n",
    "    plt.scatter(x, y)\n",
    "    \n",
    "    r, y_hat = sum_of_squared_residuals(x, y, intercept=0, slope=.64)\n",
    "    plt.plot(x, y_hat)"
   ]
  },
  {
   "cell_type": "code",
   "execution_count": 7,
   "metadata": {},
   "outputs": [
    {
     "data": {
      "text/plain": [
       "<Figure size 432x288 with 0 Axes>"
      ]
     },
     "metadata": {},
     "output_type": "display_data"
    }
   ],
   "source": [
    "ani = FuncAnimation(plt.gcf(), animate, interval=500)\n",
    "plt.show()"
   ]
  },
  {
   "cell_type": "code",
   "execution_count": 1,
   "metadata": {},
   "outputs": [
    {
     "data": {
      "image/png": "[encoded data removed]",
      "text/plain": [
       "<Figure size 432x288 with 1 Axes>"
      ]
     },
     "metadata": {
      "needs_background": "light"
     },
     "output_type": "display_data"
    }
   ],
   "source": [
    "# https://youtu.be/sDv4f4s2SB8\n",
    "\n",
    "import matplotlib.pyplot as plt\n",
    "from matplotlib.animation import FuncAnimation\n",
    "import math\n",
    "import numpy as np\n",
    "from itertools import count\n",
    "\n",
    "x = [.5, 2.3, 2.9]\n",
    "y = [1.4, 1.9, 3.2]\n",
    "\n",
    "plt.scatter(x, y, marker='o')\n",
    "\n",
    "def sum_of_squared_residuals(x_data, y_data, intercept, slope):\n",
    "    residuals = 0\n",
    "    predicted = []\n",
    "\n",
    "    # in_ =list(intercept())\n",
    "    # print(in_)\n",
    "\n",
    "    for x, y in zip(x_data, y_data):\n",
    "        pred = (intercept + (slope * x))\n",
    "        predicted.append(pred)\n",
    "        residuals += (y - pred)\n",
    "\n",
    "    return (residuals, predicted)\n",
    "\n",
    "\n",
    "# sum_of_squared_residuals(x, y, intercept=0, slope=.64)\n",
    "a = np.arange(-5, 5, .5)\n",
    "index = iter(a)\n",
    "\n",
    "x_val = np.arange(-1, 3, .1)\n",
    "y_val = [sum_of_squared_residuals(x, y, intercept=c, slope=.64)[0] ** 2 for c in x_val]\n",
    "\n",
    "def animate(i):\n",
    "    plt.cla()\n",
    "\n",
    "    plt.scatter(x, y)\n",
    "    intercept = 0\n",
    "    r, y_hat = sum_of_squared_residuals(x, y, intercept=intercept, slope=.64)\n",
    "    print(abs(r), y_hat)\n",
    "    l = 'r: ' + str(round(abs(r), 2)) + ', intercept: ' + str(abs(intercept))\n",
    "    plt.plot(x, y_hat, label=l)\n",
    "    plt.plot(x_val, y_val)\n",
    "    plt.legend()\n",
    "\n",
    "\n",
    "ani = FuncAnimation(plt.gcf(), animate, interval=500)\n",
    "plt.show()\n"
   ]
  }
 ],
 "metadata": {
  "kernelspec": {
   "display_name": "Python 3",
   "language": "python",
   "name": "python3"
  },
  "language_info": {
   "codemirror_mode": {
    "name": "ipython",
    "version": 3
   },
   "file_extension": ".py",
   "mimetype": "text/x-python",
   "name": "python",
   "nbconvert_exporter": "python",
   "pygments_lexer": "ipython3",
   "version": "3.8.6"
  }
 },
 "nbformat": 4,
 "nbformat_minor": 4
}
