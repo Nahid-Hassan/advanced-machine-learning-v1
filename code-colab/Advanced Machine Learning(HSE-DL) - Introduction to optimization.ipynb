{
 "cells": [
  {
   "cell_type": "markdown",
   "metadata": {},
   "source": [
    "## Introduction to optimization"
   ]
  },
  {
   "cell_type": "markdown",
   "metadata": {},
   "source": [
    "### Dot product\n",
    "\n",
    "```text\n",
    "If a and b is a vector then (a dot b) or,\n",
    "    a.b = a1.b1 + a1.b2 + ... + an.bn\n",
    "```"
   ]
  },
  {
   "cell_type": "code",
   "execution_count": 1,
   "metadata": {},
   "outputs": [],
   "source": [
    "def dot_product(weights, samples):\n",
    "    res = 0\n",
    "    if len(weights) == len(samples):\n",
    "        for i in range(len(weights)):\n",
    "            res += weights[i] * samples[i]\n",
    "        return res\n",
    "    else:\n",
    "        return 'Length of weights and samples is not matched.'"
   ]
  },
  {
   "cell_type": "code",
   "execution_count": 2,
   "metadata": {},
   "outputs": [
    {
     "name": "stdout",
     "output_type": "stream",
     "text": [
      "23\n"
     ]
    }
   ],
   "source": [
    "weights = [1,2,3,2,4]\n",
    "samples = [2,3,1,4,1]\n",
    "\n",
    "res = dot_product(weights, samples)\n",
    "print(res)"
   ]
  },
  {
   "cell_type": "code",
   "execution_count": 3,
   "metadata": {},
   "outputs": [
    {
     "name": "stdout",
     "output_type": "stream",
     "text": [
      "23\n"
     ]
    }
   ],
   "source": [
    "import numpy as np\n",
    "\n",
    "print(np.dot(weights, samples))"
   ]
  },
  {
   "cell_type": "code",
   "execution_count": 4,
   "metadata": {},
   "outputs": [
    {
     "data": {
      "text/plain": [
       "array([[37, 40],\n",
       "       [85, 92]])"
      ]
     },
     "execution_count": 4,
     "metadata": {},
     "output_type": "execute_result"
    }
   ],
   "source": [
    "a = np.array([[1,2],[3,4]]) \n",
    "b = np.array([[11,12],[13,14]]) \n",
    "np.dot(a,b)\n",
    "# [[37  40], [85  92]] "
   ]
  },
  {
   "cell_type": "markdown",
   "metadata": {},
   "source": [
    "### MSE\n",
    "\n",
    "![images](https://www.gstatic.com/education/formulas2/355397047/en/mean_squared_error.svg)\n",
    "\n",
    "\n",
    "- MSE\t=\tmean squared error\n",
    "- n\t=\tnumber of data points\n",
    "- Yi\t=\tobserved values\n",
    "- Yi_hat\t=\tpredicted values\n"
   ]
  },
  {
   "cell_type": "code",
   "execution_count": 5,
   "metadata": {},
   "outputs": [
    {
     "data": {
      "text/plain": [
       "0.21606"
      ]
     },
     "execution_count": 5,
     "metadata": {},
     "output_type": "execute_result"
    }
   ],
   "source": [
    "from sklearn.metrics import mean_squared_error\n",
    "\n",
    "# Given values\n",
    "Y_true = [1,1,2,2,4] # Y_true = Y (original values)\n",
    "\n",
    "# calculated values\n",
    "Y_pred = [0.6,1.29,1.99,2.69,3.4] # Y_pred = Y'\n",
    "\n",
    "# Calculation of Mean Squared Error (MSE)\n",
    "mean_squared_error(Y_true,Y_pred)"
   ]
  },
  {
   "cell_type": "code",
   "execution_count": 6,
   "metadata": {},
   "outputs": [
    {
     "data": {
      "text/plain": [
       "0.21606"
      ]
     },
     "execution_count": 6,
     "metadata": {},
     "output_type": "execute_result"
    }
   ],
   "source": [
    "import numpy as np\n",
    "\n",
    "# Given values\n",
    "Y_true = [1,1,2,2,4] # Y_true = Y (original values)\n",
    "\n",
    "# Calculated values\n",
    "Y_pred = [0.6,1.29,1.99,2.69,3.4] # Y_pred = Y'\n",
    "\n",
    "# Mean Squared Error\n",
    "MSE = np.square(np.subtract(Y_true,Y_pred)).mean()\n",
    "MSE"
   ]
  },
  {
   "cell_type": "markdown",
   "metadata": {},
   "source": [
    "### Softmax Function\n",
    "\n",
    "[Scipy Documentation](https://docs.scipy.org/doc/scipy/reference/generated/scipy.special.softmax.html)\n",
    "\n",
    "The softmax function transforms each element of a collection by computing the exponential of each element divided by the sum of the exponentials of all the elements. That is, if x is a one-dimensional numpy array:\n",
    "\n",
    "```py\n",
    "softmax(x) = np.exp(x)/sum(np.exp(x))\n",
    "```\n",
    "\n",
    "The formula for the softmax function $\\sigma(x) = \\{x_0, x_1, ... , x_{n-1}\\}$ for a vector  is\n",
    "\n",
    "$$\\sigma(x)_j = \\frac {e^x_j} {\\sum_k e^{x_k}}$$"
   ]
  },
  {
   "cell_type": "code",
   "execution_count": 7,
   "metadata": {},
   "outputs": [],
   "source": [
    "x = np.array([[1, 0.5, 0.2, 3],\n",
    "              [1,  -1,   7, 3],\n",
    "              [2,  12,  13, 3]])"
   ]
  },
  {
   "cell_type": "code",
   "execution_count": 8,
   "metadata": {},
   "outputs": [],
   "source": [
    "from scipy.special import softmax"
   ]
  },
  {
   "cell_type": "code",
   "execution_count": 9,
   "metadata": {},
   "outputs": [
    {
     "data": {
      "text/plain": [
       "array([[4.48308990e-06, 2.71913148e-06, 2.01438214e-06, 3.31258028e-05],\n",
       "       [4.48308990e-06, 6.06720242e-07, 1.80860755e-03, 3.31258028e-05],\n",
       "       [1.21863018e-05, 2.68421160e-01, 7.29644362e-01, 3.31258028e-05]])"
      ]
     },
     "execution_count": 9,
     "metadata": {},
     "output_type": "execute_result"
    }
   ],
   "source": [
    "# calculate softmax value for whole matrix\n",
    "\n",
    "m = softmax(x)\n",
    "m"
   ]
  },
  {
   "cell_type": "code",
   "execution_count": 10,
   "metadata": {},
   "outputs": [
    {
     "data": {
      "text/plain": [
       "1.0000000000000002"
      ]
     },
     "execution_count": 10,
     "metadata": {},
     "output_type": "execute_result"
    }
   ],
   "source": [
    "np.sum(m)"
   ]
  },
  {
   "cell_type": "code",
   "execution_count": 11,
   "metadata": {},
   "outputs": [
    {
     "name": "stdout",
     "output_type": "stream",
     "text": [
      "[1. 1. 1. 1.]\n",
      "4.0\n"
     ]
    }
   ],
   "source": [
    "#### using axis parameter\n",
    "\n",
    "# axis = 0 means column wise \n",
    "m = softmax(x, axis=0)\n",
    "print(sum(m))\n",
    "print(sum(sum(m))) # 4 for 4 rows"
   ]
  },
  {
   "cell_type": "code",
   "execution_count": 12,
   "metadata": {},
   "outputs": [
    {
     "data": {
      "text/plain": [
       "3.999999999999999"
      ]
     },
     "execution_count": 12,
     "metadata": {},
     "output_type": "execute_result"
    }
   ],
   "source": [
    "np.sum(m)"
   ]
  },
  {
   "cell_type": "code",
   "execution_count": 13,
   "metadata": {},
   "outputs": [
    {
     "name": "stdout",
     "output_type": "stream",
     "text": [
      "[0.10831674 0.33347542 1.7579064  0.80030144]\n",
      "3.0\n"
     ]
    }
   ],
   "source": [
    "## axis=1 means row wisw\n",
    "m = softmax(x, axis=1)\n",
    "print(sum(m))\n",
    "print(sum(sum(m))) # 3  for 3 rows"
   ]
  },
  {
   "cell_type": "code",
   "execution_count": 14,
   "metadata": {},
   "outputs": [
    {
     "data": {
      "text/plain": [
       "2.999999999999999"
      ]
     },
     "execution_count": 14,
     "metadata": {},
     "output_type": "execute_result"
    }
   ],
   "source": [
    "np.sum(m)"
   ]
  },
  {
   "cell_type": "markdown",
   "metadata": {},
   "source": [
    "### Custom softmax function"
   ]
  },
  {
   "cell_type": "code",
   "execution_count": 15,
   "metadata": {},
   "outputs": [
    {
     "data": {
      "text/plain": [
       "array([[4.48308990e-06, 2.71913148e-06, 2.01438214e-06, 3.31258028e-05],\n",
       "       [4.48308990e-06, 6.06720242e-07, 1.80860755e-03, 3.31258028e-05],\n",
       "       [1.21863018e-05, 2.68421160e-01, 7.29644362e-01, 3.31258028e-05]])"
      ]
     },
     "execution_count": 15,
     "metadata": {},
     "output_type": "execute_result"
    }
   ],
   "source": [
    "def csoftmax(x):\n",
    "    return np.exp(x) / np.sum(np.exp(x))\n",
    "\n",
    "m = csoftmax(x)\n",
    "m"
   ]
  },
  {
   "cell_type": "code",
   "execution_count": 16,
   "metadata": {},
   "outputs": [
    {
     "data": {
      "text/plain": [
       "array([4.74258720e-02, 2.39191277e-08, 9.52574104e-01])"
      ]
     },
     "execution_count": 16,
     "metadata": {},
     "output_type": "execute_result"
    }
   ],
   "source": [
    "x = np.array([7, -7.5, 10])\n",
    "csoftmax(x)"
   ]
  },
  {
   "cell_type": "code",
   "execution_count": 17,
   "metadata": {},
   "outputs": [
    {
     "data": {
      "text/plain": [
       "array([4.74258720e-02, 2.39191277e-08, 9.52574104e-01])"
      ]
     },
     "execution_count": 17,
     "metadata": {},
     "output_type": "execute_result"
    }
   ],
   "source": [
    "softmax(x)"
   ]
  },
  {
   "cell_type": "code",
   "execution_count": 18,
   "metadata": {},
   "outputs": [
    {
     "name": "stdout",
     "output_type": "stream",
     "text": [
      "0.047425872043181265 0.04742587204318125\n",
      "True\n",
      "2.391912771022218e-08 2.391912771022222e-08\n",
      "True\n",
      "0.952574104037691 0.9525741040376909\n",
      "True\n"
     ]
    }
   ],
   "source": [
    "for m1, m2  in zip(softmax(x), csoftmax(x)):\n",
    "    print(m1, m2)\n",
    "    print(round(m1,2) == round(m2,2))"
   ]
  },
  {
   "cell_type": "markdown",
   "metadata": {},
   "source": [
    "### Cross Entropy\n",
    "\n",
    "\n",
    "$$CrossEntroy = -log \\frac {e^z} {\\sum_{j=1}^{k} e^{z_j}}$$"
   ]
  },
  {
   "cell_type": "code",
   "execution_count": 29,
   "metadata": {},
   "outputs": [],
   "source": [
    "def cross_entropy(x):\n",
    "    s = softmax(x)\n",
    "    print(s)\n",
    "#     print(np.argmax(s), s[np.argmax(s)])"
   ]
  },
  {
   "cell_type": "code",
   "execution_count": 30,
   "metadata": {},
   "outputs": [
    {
     "data": {
      "text/plain": [
       "[[1, 0, 0], [0, 1, 0]]"
      ]
     },
     "execution_count": 30,
     "metadata": {},
     "output_type": "execute_result"
    }
   ],
   "source": [
    "x = [\n",
    "    [1,0,0],\n",
    "    [0,1,0]\n",
    "]\n",
    "x"
   ]
  },
  {
   "cell_type": "code",
   "execution_count": 31,
   "metadata": {},
   "outputs": [
    {
     "name": "stdout",
     "output_type": "stream",
     "text": [
      "[[0.28805844 0.10597078 0.10597078]\n",
      " [0.10597078 0.28805844 0.10597078]]\n"
     ]
    }
   ],
   "source": [
    "cross_entropy(x)"
   ]
  },
  {
   "cell_type": "markdown",
   "metadata": {},
   "source": [
    "### Linear models - Quiz"
   ]
  },
  {
   "cell_type": "markdown",
   "metadata": {},
   "source": [
    "- Consider a vector `(1, -2, 0.5)`. Apply a `softmax transform` to it and enter the first component (accurate to 2 decimal places)."
   ]
  },
  {
   "cell_type": "code",
   "execution_count": 35,
   "metadata": {},
   "outputs": [
    {
     "data": {
      "text/plain": [
       "array([0.6037489 , 0.03005889, 0.36619222])"
      ]
     },
     "execution_count": 35,
     "metadata": {},
     "output_type": "execute_result"
    }
   ],
   "source": [
    "softmax([1,-2,0.5])"
   ]
  },
  {
   "cell_type": "code",
   "execution_count": 36,
   "metadata": {},
   "outputs": [
    {
     "data": {
      "text/plain": [
       "0.6037488961486258"
      ]
     },
     "execution_count": 36,
     "metadata": {},
     "output_type": "execute_result"
    }
   ],
   "source": [
    "softmax([1,-2,0.5])[0]"
   ]
  },
  {
   "cell_type": "markdown",
   "metadata": {},
   "source": [
    "- Suppose you are solving a `5-class` classification problem with `10 features`. How many `parameters` a linear model would have? Don't forget bias terms!"
   ]
  },
  {
   "cell_type": "code",
   "execution_count": 37,
   "metadata": {},
   "outputs": [
    {
     "data": {
      "text/plain": [
       "50"
      ]
     },
     "execution_count": 37,
     "metadata": {},
     "output_type": "execute_result"
    }
   ],
   "source": [
    "def num_of_parameters(n_cls, features):\n",
    "    return n_cls * features\n",
    "\n",
    "num_of_parameters(n_cls=5, features=10)"
   ]
  }
 ],
 "metadata": {
  "kernelspec": {
   "display_name": "Python 3",
   "language": "python",
   "name": "python3"
  },
  "language_info": {
   "codemirror_mode": {
    "name": "ipython",
    "version": 3
   },
   "file_extension": ".py",
   "mimetype": "text/x-python",
   "name": "python",
   "nbconvert_exporter": "python",
   "pygments_lexer": "ipython3",
   "version": "3.8.6"
  }
 },
 "nbformat": 4,
 "nbformat_minor": 4
}
