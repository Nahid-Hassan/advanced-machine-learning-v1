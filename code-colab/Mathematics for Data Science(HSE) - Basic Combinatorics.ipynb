{
 "cells": [
  {
   "cell_type": "markdown",
   "metadata": {},
   "source": [
    "## Basic Combinatorics"
   ]
  },
  {
   "cell_type": "markdown",
   "metadata": {},
   "source": [
    "### Numbers Divisible by 2 or 3\n",
    "\n",
    "- How many numbers from 1 to 20, inclusive, are divisible by 2?"
   ]
  },
  {
   "cell_type": "code",
   "execution_count": 1,
   "metadata": {},
   "outputs": [
    {
     "data": {
      "text/plain": [
       "10"
      ]
     },
     "execution_count": 1,
     "metadata": {},
     "output_type": "execute_result"
    }
   ],
   "source": [
    "div_by_2 = [num for num in range(1,21) if num % 2 == 0]\n",
    "len(div_by_2)"
   ]
  },
  {
   "cell_type": "markdown",
   "metadata": {},
   "source": [
    "- How many numbers from 1 to 20, inclusive, are divisible by 3?"
   ]
  },
  {
   "cell_type": "code",
   "execution_count": 2,
   "metadata": {},
   "outputs": [
    {
     "data": {
      "text/plain": [
       "6"
      ]
     },
     "execution_count": 2,
     "metadata": {},
     "output_type": "execute_result"
    }
   ],
   "source": [
    "div_by_3 = [num for num in range(1, 21) if num % 3 == 0]\n",
    "len(div_by_3)"
   ]
  },
  {
   "cell_type": "markdown",
   "metadata": {},
   "source": [
    "- How many numbers from 1 to 20, inclusive, are divisible by 2 or by 3?"
   ]
  },
  {
   "cell_type": "code",
   "execution_count": 3,
   "metadata": {},
   "outputs": [
    {
     "data": {
      "text/plain": [
       "13"
      ]
     },
     "execution_count": 3,
     "metadata": {},
     "output_type": "execute_result"
    }
   ],
   "source": [
    "div_by_2_or_3 = [num for num in range(1, 21) if num % 2 == 0 or num % 3 == 0]\n",
    "len(div_by_2_or_3)"
   ]
  },
  {
   "cell_type": "markdown",
   "metadata": {},
   "source": [
    "### Sets and Operations with Them\n",
    "\n",
    "- Consider the set A={1,3,2,0,1,3} A={1,3,2,0,1,3}. Find |A|∣A∣."
   ]
  },
  {
   "cell_type": "code",
   "execution_count": 4,
   "metadata": {},
   "outputs": [
    {
     "data": {
      "text/plain": [
       "{0, 1, 2, 3}"
      ]
     },
     "execution_count": 4,
     "metadata": {},
     "output_type": "execute_result"
    }
   ],
   "source": [
    "A = {1, 3, 2, 0, 1, 3}\n",
    "A"
   ]
  },
  {
   "cell_type": "code",
   "execution_count": 5,
   "metadata": {},
   "outputs": [
    {
     "data": {
      "text/plain": [
       "4"
      ]
     },
     "execution_count": 5,
     "metadata": {},
     "output_type": "execute_result"
    }
   ],
   "source": [
    "len(A)"
   ]
  },
  {
   "cell_type": "markdown",
   "metadata": {},
   "source": [
    "- Consider the sets `A={1, 2, 4, 5, 6}` and `B = {1, 2, 3, 5, 7}`. What is the intersection od `A∩B` of sets `A` and `B`?"
   ]
  },
  {
   "cell_type": "code",
   "execution_count": 6,
   "metadata": {},
   "outputs": [
    {
     "name": "stdout",
     "output_type": "stream",
     "text": [
      "{1, 2, 5}\n"
     ]
    }
   ],
   "source": [
    "A = {1,2,4,5,6}\n",
    "B = {1,2,3,5,7}\n",
    "\n",
    "A_intersection_B = A.intersection(B)\n",
    "print(A_intersection_B)"
   ]
  },
  {
   "cell_type": "markdown",
   "metadata": {},
   "source": [
    "- Consider the sets `A = {1, 2, 4, 5, 7}` and `B = {1, 2, 3, 5, 6}`. What is the union `A∪B` of sets `A` and `B`?"
   ]
  },
  {
   "cell_type": "code",
   "execution_count": 7,
   "metadata": {},
   "outputs": [
    {
     "name": "stdout",
     "output_type": "stream",
     "text": [
      "{1, 2, 3, 4, 5, 6, 7}\n"
     ]
    }
   ],
   "source": [
    "A = {1, 2, 4, 5, 7}\n",
    "B = {1, 2, 3, 5, 6}\n",
    "\n",
    "A_union_B = A.union(B)\n",
    "print(A_union_B)"
   ]
  },
  {
   "cell_type": "markdown",
   "metadata": {},
   "source": [
    "## Generalized Rule of Sum\n",
    "\n",
    "- Suppose we have 40 videos in our dataset. Each video falls in at least one of the two categories, comedy videos and music videos. It is known that there are 27 comedy videos  and 22 music videos in the dataset. How many videos fall into both categories?"
   ]
  },
  {
   "cell_type": "code",
   "execution_count": 8,
   "metadata": {},
   "outputs": [
    {
     "name": "stdout",
     "output_type": "stream",
     "text": [
      "9\n"
     ]
    }
   ],
   "source": [
    "# Given, \n",
    "A_union_B = 40 # Both A and B lies here\n",
    "len_A = 27 # Modulus of Comedy videos\n",
    "len_B = 22 # Modulus of Music videos\n",
    "\n",
    "A_intersection_B = len_A + len_B - A_union_B\n",
    "print(A_intersection_B)"
   ]
  },
  {
   "cell_type": "markdown",
   "metadata": {},
   "source": [
    "- How many integer numbers from 1 to 1000, inclusive, are divisible by 2 or by 3?"
   ]
  },
  {
   "cell_type": "code",
   "execution_count": 9,
   "metadata": {},
   "outputs": [
    {
     "data": {
      "text/plain": [
       "667"
      ]
     },
     "execution_count": 9,
     "metadata": {},
     "output_type": "execute_result"
    }
   ],
   "source": [
    "div_by_2_or_3 = [num for num in range(1,1001) if num % 2 == 0 or num % 3 == 0]\n",
    "len(div_by_2_or_3)\n",
    "# print(div_by_2_or_3)"
   ]
  },
  {
   "cell_type": "markdown",
   "metadata": {},
   "source": [
    "- How many integer numbers from 1 to 1000, inclusive, are not divisible neither by 2, nor by 3?"
   ]
  },
  {
   "cell_type": "code",
   "execution_count": 10,
   "metadata": {},
   "outputs": [
    {
     "data": {
      "text/plain": [
       "333"
      ]
     },
     "execution_count": 10,
     "metadata": {},
     "output_type": "execute_result"
    }
   ],
   "source": [
    "not_div_by_2_or_3 = [num for num in range(1, 1001) if num % 2 != 0 and num % 3 != 0]\n",
    "len(not_div_by_2_or_3)\n",
    "# print(not_div_by_2_or_3)"
   ]
  },
  {
   "cell_type": "markdown",
   "metadata": {},
   "source": [
    "## Number of Paths\n",
    "\n",
    "- Consider the following set of points connected by arrows. How many different ways are there to get from ss to tt?\n",
    "\n",
    "![images](https://d3c33hcgiwev3.cloudfront.net/imageAssetProxy.v1/Cgrl6xANQRuK5esQDbEbKg_5155eedd370785f8376a9bb641071f41_number-of-paths.png?expiry=1616889600000&hmac=NalQ_N_5Sv9AdTxYwfvbCFimEXxbNrdyU-BSLwg38Bo)"
   ]
  },
  {
   "cell_type": "code",
   "execution_count": 11,
   "metadata": {},
   "outputs": [],
   "source": [
    "# need to impletement graph algorithm, dynamic programming, or greedy algorithm."
   ]
  },
  {
   "cell_type": "markdown",
   "metadata": {},
   "source": [
    "## Rule of Product\n",
    "\n",
    "- Suppose we have 7 disjoint datasets and each dataset contains 12 data entries. How many data entries do we have in total?"
   ]
  },
  {
   "cell_type": "code",
   "execution_count": 12,
   "metadata": {},
   "outputs": [
    {
     "name": "stdout",
     "output_type": "stream",
     "text": [
      "84\n"
     ]
    }
   ],
   "source": [
    "n = 7 # number of disjoint datasets\n",
    "k = 12 # each dataset contains k entries\n",
    "\n",
    "total = n * k\n",
    "print(total)"
   ]
  },
  {
   "cell_type": "markdown",
   "metadata": {},
   "source": [
    "### Tuples and Permutation\n",
    "\n",
    "- Suppose we want to analyse texts in Latin alphabet (26 possible letters). For this we want to compute the frequencies of all possible 3-letter combinations in a text. For this we will need to store a number for each possible 3-letter combination. How many number we will have to store for a text?"
   ]
  },
  {
   "cell_type": "code",
   "execution_count": 13,
   "metadata": {},
   "outputs": [
    {
     "name": "stdout",
     "output_type": "stream",
     "text": [
      "17576\n"
     ]
    }
   ],
   "source": [
    "alpha = 26\n",
    "three_letter_combination = 3\n",
    "\n",
    "total = alpha ** three_letter_combination\n",
    "print(total)"
   ]
  },
  {
   "cell_type": "markdown",
   "metadata": {},
   "source": [
    "### Cartesian Product / Tuple"
   ]
  },
  {
   "cell_type": "code",
   "execution_count": 17,
   "metadata": {},
   "outputs": [
    {
     "name": "stdout",
     "output_type": "stream",
     "text": [
      "[('a', 1), ('a', 2), ('a', 3), ('a', 4), ('a', 5), ('b', 1), ('b', 2), ('b', 3), ('b', 4), ('b', 5), ('c', 1), ('c', 2), ('c', 3), ('c', 4), ('c', 5), ('d', 1), ('d', 2), ('d', 3), ('d', 4), ('d', 5)]\n"
     ]
    }
   ],
   "source": [
    "A = {'a', 'b', 'c', 'd'}\n",
    "length = 5\n",
    "\n",
    "car = [(a, idx) for a in A for idx in range(1, length + 1)]\n",
    "print(car)\n",
    "\n",
    "assert len(A) * length == len(car)"
   ]
  },
  {
   "cell_type": "code",
   "execution_count": 25,
   "metadata": {},
   "outputs": [
    {
     "name": "stdout",
     "output_type": "stream",
     "text": [
      "2916\n",
      "2916\n"
     ]
    }
   ],
   "source": [
    "count = 0\n",
    "for i in range(1, 10000):\n",
    "    s = str(i)\n",
    "    \n",
    "    if s.count('7') == 1:\n",
    "        count += 1\n",
    "print(count)\n",
    "\n",
    "print((9 * 9 * 9) * 4)"
   ]
  }
 ],
 "metadata": {
  "kernelspec": {
   "display_name": "Python 3",
   "language": "python",
   "name": "python3"
  },
  "language_info": {
   "codemirror_mode": {
    "name": "ipython",
    "version": 3
   },
   "file_extension": ".py",
   "mimetype": "text/x-python",
   "name": "python",
   "nbconvert_exporter": "python",
   "pygments_lexer": "ipython3",
   "version": "3.8.6"
  }
 },
 "nbformat": 4,
 "nbformat_minor": 4
}
