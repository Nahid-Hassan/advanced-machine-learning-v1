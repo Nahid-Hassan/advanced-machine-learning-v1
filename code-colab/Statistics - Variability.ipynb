{
 "cells": [
  {
   "cell_type": "markdown",
   "metadata": {},
   "source": [
    "### Calculate Range\n",
    "\n",
    "**Range**: is the difference between the maximum value and the minimum value observed."
   ]
  },
  {
   "cell_type": "code",
   "execution_count": 11,
   "metadata": {},
   "outputs": [],
   "source": [
    "def calculate_range(sample):\n",
    "    return max(sample) - min(sample)"
   ]
  },
  {
   "cell_type": "code",
   "execution_count": 12,
   "metadata": {},
   "outputs": [
    {
     "data": {
      "text/plain": [
       "[89745, 61760, 82025, 61760, 100360, 86850, 91675, 54040, 54040, 82990]"
      ]
     },
     "execution_count": 12,
     "metadata": {},
     "output_type": "execute_result"
    }
   ],
   "source": [
    "# generate random sample\n",
    "import random\n",
    "\n",
    "sample = [random.randint(50,120) * 965 for _ in range(10)]\n",
    "sample"
   ]
  },
  {
   "cell_type": "code",
   "execution_count": 13,
   "metadata": {},
   "outputs": [
    {
     "data": {
      "text/plain": [
       "46320"
      ]
     },
     "execution_count": 13,
     "metadata": {},
     "output_type": "execute_result"
    }
   ],
   "source": [
    "calculate_range(sample)"
   ]
  },
  {
   "cell_type": "code",
   "execution_count": 14,
   "metadata": {},
   "outputs": [
    {
     "data": {
      "text/plain": [
       "array([74447.84758828, 22100.11357563, 56889.44200672, 27348.74077039,\n",
       "        1528.01037098, 25516.12094765, 48318.72131081, 93792.37923398,\n",
       "       98543.63514879, 67858.85911435, 69505.63451215, 49474.93876167,\n",
       "       22559.07582707, 71121.04613466, 98738.44546573, 93386.93490098,\n",
       "       90490.96625096, 15376.27583474, 97213.25132412, 26665.56963759,\n",
       "        9092.06125559, 88658.39486036,  2536.93386045, 38028.97737848,\n",
       "       86940.00775852, 93096.33801062,  1788.62070453, 52272.0406769 ,\n",
       "       96393.93484151, 48452.77623894, 99899.16246842, 35571.07080574,\n",
       "       66730.40439059, 96784.76810963, 73485.87440228, 55036.7702207 ,\n",
       "       94819.2485013 , 11061.38109298, 82683.61761628, 63346.66244774,\n",
       "       58183.51327279, 15820.33804995, 55332.82486855, 80094.31246108,\n",
       "       61495.26731836, 46304.90748469, 26443.46182516, 61485.84763407,\n",
       "       87272.61998492, 11699.65878359, 77716.20234652, 91398.87825142,\n",
       "       55181.04956006, 93379.02865135, 53448.44821806, 15489.7004067 ,\n",
       "        5786.03566192, 39135.43181664, 77337.30403494, 71035.93897295,\n",
       "        4452.47134827,  9203.65917265, 58243.66642348, 39949.88141213,\n",
       "       95822.64790961, 63478.09642395, 63035.42373769, 80613.94385537,\n",
       "       52704.87190852, 38435.94648011, 51792.35690797, 98252.46726312,\n",
       "       56792.52216611, 40027.35782877, 65252.81716965, 85178.31831306,\n",
       "       38636.78358957, 81005.80562327, 31509.81235202, 66709.75434555,\n",
       "       63779.05782666, 68711.04459551, 61275.60296572, 74485.27816492,\n",
       "       16472.91141711, 62008.24822789, 84071.81323438, 68192.41191441,\n",
       "       92547.28717528, 82317.45620882, 39769.75400422, 24107.48178944,\n",
       "       87981.67361251, 36312.04284445, 91532.23641316, 69850.04486026,\n",
       "       92819.86174106, 31411.45257558, 89865.78802044, 99229.05239115])"
      ]
     },
     "execution_count": 14,
     "metadata": {},
     "output_type": "execute_result"
    }
   ],
   "source": [
    "# Generate random sample using numpy random.rand()\n",
    "import numpy as np\n",
    "\n",
    "sample = np.random.rand(100) * 100000 # 100 is the sample size\n",
    "sample"
   ]
  },
  {
   "cell_type": "markdown",
   "metadata": {},
   "source": [
    "### Calculate Q3 - Q1"
   ]
  },
  {
   "cell_type": "code",
   "execution_count": 16,
   "metadata": {},
   "outputs": [
    {
     "data": {
      "text/plain": [
       "10"
      ]
     },
     "execution_count": 16,
     "metadata": {},
     "output_type": "execute_result"
    }
   ],
   "source": [
    "sample = [38946, 43420, 49191, 50430, 50557, 52580, 53595, 54135, 60181, 10000000]\n",
    "len(sample)"
   ]
  },
  {
   "cell_type": "code",
   "execution_count": 17,
   "metadata": {},
   "outputs": [
    {
     "data": {
      "text/plain": [
       "4"
      ]
     },
     "execution_count": 17,
     "metadata": {},
     "output_type": "execute_result"
    }
   ],
   "source": [
    "# q2\n",
    "q2 = len(sample) // 2 - 1\n",
    "q2"
   ]
  },
  {
   "cell_type": "code",
   "execution_count": 19,
   "metadata": {},
   "outputs": [
    {
     "data": {
      "text/plain": [
       "0       38946\n",
       "1       43420\n",
       "2       49191\n",
       "3       50430\n",
       "4       50557\n",
       "5       52580\n",
       "6       53595\n",
       "7       54135\n",
       "8       60181\n",
       "9    10000000\n",
       "dtype: int64"
      ]
     },
     "execution_count": 19,
     "metadata": {},
     "output_type": "execute_result"
    }
   ],
   "source": [
    "import pandas as pd\n",
    "\n",
    "s = pd.Series([38946, 43420, 49191, 50430, 50557, 52580, 53595, 54135, 60181, 10000000])\n",
    "s"
   ]
  },
  {
   "cell_type": "code",
   "execution_count": 43,
   "metadata": {},
   "outputs": [
    {
     "data": {
      "text/plain": [
       "0.25    49500.75\n",
       "0.50    51568.50\n",
       "0.75    54000.00\n",
       "dtype: float64"
      ]
     },
     "execution_count": 43,
     "metadata": {},
     "output_type": "execute_result"
    }
   ],
   "source": [
    "s.quantile([0.25, 0.5, 0.75])"
   ]
  },
  {
   "cell_type": "markdown",
   "metadata": {},
   "source": [
    "### Quartiles, Quantiles and Percentiles\n",
    "\n",
    "Suppose you have a list of countries and their population. The quantile rank (and percentile rank) of your country correspond the fraction of countries with populations lower or equal than your country.\n",
    "\n",
    "The difference is that the quantile goes from 0 to 1, and the percentile goes from 0% to 100%.\n",
    "\n",
    "- 0.25 quantile = 25th percentile = lower quartile\n",
    "- 0.5 quantile = 50th percentile = median\n",
    "- 0.75 quantile = 75th percentile = upper quartile\n",
    "etc.\n"
   ]
  },
  {
   "cell_type": "code",
   "execution_count": 46,
   "metadata": {},
   "outputs": [
    {
     "data": {
      "text/plain": [
       "4499.25"
      ]
     },
     "execution_count": 46,
     "metadata": {},
     "output_type": "execute_result"
    }
   ],
   "source": [
    "import numpy as np\n",
    "\n",
    "#define array of data\n",
    "data = np.array([38946, 43420, 49191, 50430, 50557, 52580, 53595, 54135, 60181, 10000000])\n",
    "\n",
    "#calculate interquartile range \n",
    "q3, q1 = np.percentile(data, [75 ,25])\n",
    "iqr = q3 - q1\n",
    "\n",
    "#display interquartile range \n",
    "iqr"
   ]
  },
  {
   "cell_type": "code",
   "execution_count": 57,
   "metadata": {},
   "outputs": [],
   "source": [
    "def outlier(sample):\n",
    "    # calculate inter-quartile\n",
    "    q3, q1 = np.percentile(data, [75, 25])\n",
    "    iqr = q3 - q1\n",
    "    \n",
    "    outliers = ((q1 - 1.5 * iqr), (q3 + 1.5 * iqr))\n",
    "    return outliers"
   ]
  },
  {
   "cell_type": "code",
   "execution_count": 58,
   "metadata": {},
   "outputs": [
    {
     "name": "stdout",
     "output_type": "stream",
     "text": [
      "(42751.875, 60748.875)\n"
     ]
    }
   ],
   "source": [
    "print(outlier(data))"
   ]
  },
  {
   "cell_type": "markdown",
   "metadata": {},
   "source": [
    "### Boxplot"
   ]
  },
  {
   "cell_type": "code",
   "execution_count": 68,
   "metadata": {},
   "outputs": [
    {
     "data": {
      "text/plain": [
       "<AxesSubplot:xlabel='day', ylabel='total_bill'>"
      ]
     },
     "execution_count": 68,
     "metadata": {},
     "output_type": "execute_result"
    },
    {
     "data": {
      "image/png": "[encoded data removed]",
      "text/plain": [
       "<Figure size 432x288 with 1 Axes>"
      ]
     },
     "metadata": {},
     "output_type": "display_data"
    }
   ],
   "source": [
    "import seaborn as sns\n",
    "\n",
    "tips = pd.read_csv('datasets/tips.csv')\n",
    "\n",
    "# Draw a vertical boxplot grouped \n",
    "# by a categorical variable: \n",
    "sns.set_style(\"whitegrid\") \n",
    "\n",
    "sns.boxplot(x = 'day', y = 'total_bill', data = tips) "
   ]
  },
  {
   "cell_type": "code",
   "execution_count": 69,
   "metadata": {},
   "outputs": [],
   "source": [
    "sample_data = [33219, 36254, 38801,46335,46840,47546,55130,56863,78070,88830]"
   ]
  },
  {
   "cell_type": "code",
   "execution_count": 70,
   "metadata": {},
   "outputs": [
    {
     "data": {
      "text/plain": [
       "10"
      ]
     },
     "execution_count": 70,
     "metadata": {},
     "output_type": "execute_result"
    }
   ],
   "source": [
    "len(sample_data)"
   ]
  },
  {
   "cell_type": "code",
   "execution_count": 71,
   "metadata": {},
   "outputs": [
    {
     "data": {
      "text/plain": [
       "52788.8"
      ]
     },
     "execution_count": 71,
     "metadata": {},
     "output_type": "execute_result"
    }
   ],
   "source": [
    "def mean(sample_data):\n",
    "    return sum(sample_data) / len(sample_data)\n",
    "\n",
    "mean(sample_data)"
   ]
  },
  {
   "cell_type": "markdown",
   "metadata": {},
   "source": [
    "#### Deviation\n",
    "\n",
    "![](https://wikimedia.org/api/rest_v1/media/math/render/svg/61b5d9976a2a696f3c23ced5ad7a11b875d2a19d)"
   ]
  },
  {
   "cell_type": "code",
   "execution_count": 86,
   "metadata": {},
   "outputs": [
    {
     "name": "stdout",
     "output_type": "stream",
     "text": [
      "33219 - 52788.8 = -19569.8\n",
      "36254 - 52788.8 = -16534.8\n",
      "38801 - 52788.8 = -13987.8\n",
      "46335 - 52788.8 = -6453.8\n",
      "46840 - 52788.8 = -5948.8\n",
      "47546 - 52788.8 = -5242.8\n",
      "55130 - 52788.8 = 2341.2\n",
      "56863 - 52788.8 = 4074.2\n",
      "78070 - 52788.8 = 25281.2\n",
      "88830 - 52788.8 = 36041.2\n"
     ]
    }
   ],
   "source": [
    "mean_sample_data = mean(sample_data)\n",
    "\n",
    "toal_deviation = 0\n",
    "\n",
    "for data in sample_data:\n",
    "    print(f\"{data} - {mean_sample_data} = {round(data - mean_sample_data, 1)}\")\n",
    "    toal_deviation += data - mean_sample_data"
   ]
  },
  {
   "cell_type": "code",
   "execution_count": 87,
   "metadata": {},
   "outputs": [],
   "source": [
    "avg_deviation = toal_deviation // len(sample_data)"
   ]
  },
  {
   "cell_type": "code",
   "execution_count": 88,
   "metadata": {},
   "outputs": [
    {
     "data": {
      "text/plain": [
       "-1.0"
      ]
     },
     "execution_count": 88,
     "metadata": {},
     "output_type": "execute_result"
    }
   ],
   "source": [
    "avg_deviation"
   ]
  },
  {
   "cell_type": "code",
   "execution_count": null,
   "metadata": {},
   "outputs": [],
   "source": []
  }
 ],
 "metadata": {
  "kernelspec": {
   "display_name": "Python 3",
   "language": "python",
   "name": "python3"
  },
  "language_info": {
   "codemirror_mode": {
    "name": "ipython",
    "version": 3
   },
   "file_extension": ".py",
   "mimetype": "text/x-python",
   "name": "python",
   "nbconvert_exporter": "python",
   "pygments_lexer": "ipython3",
   "version": "3.8.6"
  }
 },
 "nbformat": 4,
 "nbformat_minor": 4
}
