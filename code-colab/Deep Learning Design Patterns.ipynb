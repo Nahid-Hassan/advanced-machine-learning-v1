{
 "cells": [
  {
   "cell_type": "markdown",
   "metadata": {},
   "source": [
    "### The Machine Learning Steps\n",
    "\n",
    "You've likely seen this before. A successful ML engineer will need to decompose a machine learning solution into the following steps:\n",
    "\n",
    "1. Identify the type of `Model` for the problem.\n",
    "2. `Design` the model.\n",
    "3. `Prepare` the `Data` for the model.\n",
    "4. `Train` the model.\n",
    "5. `Deploy` the model.\n",
    "\n",
    "That is very `2017`. It’s now `2020` and a lot of things have progressed. There are now vasts numbers of model types, but with abstractions -- like composable -- we are seeing model types converging and likely by 2022 we will see just a handful of `abstractions covering all types of production.`\n",
    "\n",
    "Outside of research, ML practitioners `don’t design models`, they `guide` the design of the models. `Data preparation` is becoming more `automated`, some of which is moving into the models and other\n",
    "cases handled upstream by other models that have learned to prepare data.\n",
    "\n",
    "We don’t train one model anymore, we train a `plurality` of models, and for each model we train instances of the model in stages from warmup, pre-training and finally full-training.\n",
    "\n",
    "Models are deployed in a wide variety of manners from the cloud, to mobile devices, to IoT (edge) devices. The deployment may modify the model (e.g., `quantization, compression`), perform continuous evaluation and be updated and versioned with continuous integration/continuous development (`CI/CD`).\n",
    "\n",
    "And the above list does not cover other new things we see in production, such as `QA`, `A/B testing`, `auditing` and `bias adjustments`.\n",
    "\n",
    "Everyone is specializing, and likely you will too, pick a speciality that fits your skills and passion.\n",
    "Welcome to AI in 2020."
   ]
  },
  {
   "cell_type": "markdown",
   "metadata": {},
   "source": [
    "### Chapter I - Deep Neural Networks\n",
    "\n",
    "#### The Input Layer\n",
    "\n",
    "The `input layer` to a neural network takes `numbers`! All the input data is converted to numbers. Everything is a number. \n",
    "\n",
    "- The `text` becomes numbers. \n",
    "- `speech` becomes numbers.\n",
    "- `pictures` become numbers. \n",
    "- and things that are already numbers are just numbers.\n",
    "\n",
    "Neural networks take numbers either as `vectors`, `matrices` or `tensors`. They are names for the number of dimensions in an array. \n",
    "\n",
    "- **Vector**: is a one dimensional array, like a list of numbers. \n",
    "- **Matrix**: is a two dimensional array, like the pixels in a black and white image. \n",
    "- **Tensor**: is any array three or more dimensions.\n",
    "\n",
    "**NOTE**: Install `numpy`, `scikit-learn` and `tensorflow`. "
   ]
  },
  {
   "cell_type": "markdown",
   "metadata": {},
   "source": [
    "Install Python Packages\n",
    "\n",
    "```bash\n",
    "nahid@infoForest:~$ pip3 install numpy\n",
    "nahid@infoForest:~$ pip3 install tensorflow\n",
    "nahid@infoForest:~$ pip3 install scikit-learn\n",
    "```\n",
    "\n",
    "Or direct into the jupyter-notebook,\n",
    "\n",
    "`!pip3 install numpy scikit-learn tensorflow`"
   ]
  },
  {
   "cell_type": "markdown",
   "metadata": {},
   "source": [
    "We will start by first importing the **Keras** module from **TensorFlow**, and then instantiate an **Input** class object. For this class object, we define the shape (i.e., dimensions) of the input. In our example, the input is a one dimensional array (i.e., **vector**) of `13 elements`, one for each feature."
   ]
  },
  {
   "cell_type": "code",
   "execution_count": 1,
   "metadata": {},
   "outputs": [],
   "source": [
    "from tensorflow.keras import Input"
   ]
  },
  {
   "cell_type": "code",
   "execution_count": 2,
   "metadata": {},
   "outputs": [
    {
     "data": {
      "text/plain": [
       "<KerasTensor: shape=(None, 13) dtype=float32 (created by layer 'input_1')>"
      ]
     },
     "execution_count": 2,
     "metadata": {},
     "output_type": "execute_result"
    }
   ],
   "source": [
    "Input(shape=(13,))"
   ]
  },
  {
   "cell_type": "markdown",
   "metadata": {},
   "source": [
    "This is showing you what `Input(shape=(13,))` evaluates to. It produces a **tensor object** by the name `'input_1:0'`. This name will be useful later in assisting you in `debugging` your models. The **'?'** in shape shows that the input object takes an `unbounded` number of entries (your **examples** or **rows**) of `13 elements` each. \n",
    "\n",
    "**Important**: That is, at run-time it will bind the number of one dimensional vectors of 13 elements to the actual number of examples (rows) you pass in, referred to as the (mini) batch size. \n",
    "\n",
    "The `'dtype'` shows the default data type of the elements, which in this case is a\n",
    "32-bit float (single precision)."
   ]
  },
  {
   "cell_type": "markdown",
   "metadata": {},
   "source": [
    "#### Deep Neural Networks (DNN)\n",
    "\n",
    "![images](./images/dnn.png)"
   ]
  },
  {
   "cell_type": "markdown",
   "metadata": {},
   "source": [
    "### Feed Forward\n",
    "\n",
    "The **DNN** (and **CNN**) are known as **feed forward neural networks**. This means that data moves through the network sequentially in `one direction` (from `input to output` layer). That's like a function in **procedural** programming. \n",
    "\n",
    "- The `inputs` are passed as `parameters` (i.e., `input layer`), the function performs a sequenced set of `actions` based on the `inputs` (i.e., `hidden layers`) and `outputs a result` (i.e., `output` layer)."
   ]
  },
  {
   "cell_type": "markdown",
   "metadata": {},
   "source": [
    "### The Sequential API Method\n",
    "\n",
    "The **Sequential API** method is `easier to read and follow for beginners`, but the **trade off is its less flexible**. Essentially, you create an `empty forward feed neural network` with the **Sequential class object**, and then `\"add\"` one layer at a time, until the output layer. In the examples below, the ellipses represent pseudo code."
   ]
  },
  {
   "cell_type": "markdown",
   "metadata": {},
   "source": [
    "```py\n",
    "from tensorflow.keras import Sequential\n",
    "\n",
    "model = Sequential()\n",
    "model.add(... the first layer ...)\n",
    "model.add(... the second layer ...)\n",
    "model.add(... the output layer ...)\n",
    "```"
   ]
  },
  {
   "cell_type": "markdown",
   "metadata": {},
   "source": [
    "Alternatively, the layers can be specified in sequential order as a list passed as a parameter when instantiating the  **Sequential class object**.\n",
    "\n",
    "```py\n",
    "model = Sequential([... the first layer ...,\n",
    "                    ... the next layer ...,\n",
    "                    ... the output layer ...\n",
    "                    ])\n",
    "```"
   ]
  },
  {
   "cell_type": "markdown",
   "metadata": {},
   "source": [
    "### The Functional API Method\n",
    "\n",
    "The **Functional API** method is more advanced, allowing you to construct models that are\n",
    "`non-sequential in flow` such as `branches`, `skip links`, and `multiple inputs` and `outputs`. You build the layers separately and then \"tie\" them together. This latter step gives you the freedom to conect layers in creative ways. Essentially, for a forward feed neural network, you create the layers, bind them to another layer(s), and then pull all the layers together in a final instantiation of a Model class\n",
    "object.\n",
    "\n",
    "```py\n",
    "input = layers .(...the first layer ...)\n",
    "hidden = layers .(... the  next layer ...)( ... the layer to bind to ... )\n",
    "output = layers .(... the output layer ...)( /  the layer to bind to ... )\n",
    "model = Model ( input ,  output )\n",
    "```"
   ]
  }
 ],
 "metadata": {
  "kernelspec": {
   "display_name": "Python 3",
   "language": "python",
   "name": "python3"
  },
  "language_info": {
   "codemirror_mode": {
    "name": "ipython",
    "version": 3
   },
   "file_extension": ".py",
   "mimetype": "text/x-python",
   "name": "python",
   "nbconvert_exporter": "python",
   "pygments_lexer": "ipython3",
   "version": "3.8.5"
  }
 },
 "nbformat": 4,
 "nbformat_minor": 4
}
