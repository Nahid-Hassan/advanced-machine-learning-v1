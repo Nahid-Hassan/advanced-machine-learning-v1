{
 "cells": [
  {
   "cell_type": "markdown",
   "metadata": {},
   "source": [
    "# Estimation"
   ]
  },
  {
   "cell_type": "code",
   "execution_count": 1,
   "metadata": {},
   "outputs": [],
   "source": [
    "N = 1048 # population\n",
    "mu = 37.72 # population mean\n",
    "sigma = 16.04 # population standard deviation"
   ]
  },
  {
   "cell_type": "markdown",
   "metadata": {},
   "source": [
    "### Distribution of sample mean"
   ]
  },
  {
   "cell_type": "code",
   "execution_count": 2,
   "metadata": {},
   "outputs": [
    {
     "data": {
      "text/plain": [
       "2.711254849169081"
      ]
     },
     "execution_count": 2,
     "metadata": {},
     "output_type": "execute_result"
    }
   ],
   "source": [
    "from math import sqrt\n",
    "\n",
    "n = 35 # sample size\n",
    "mean = mu # mean of sample distribution is equal population mean (mu), @central_limit_theorem\n",
    "sd = sigma / sqrt(n) # sd or SE @standard_error\n",
    "sd"
   ]
  },
  {
   "cell_type": "markdown",
   "metadata": {},
   "source": [
    "#### Point Estimation \n",
    "\n",
    "In statistics, point estimation involves the use of sample data to calculate a single value (known as a point estimate since it identifies a point in some parameter space) which is to serve as a \"best guess\" or \"best estimate\" of an unknown population parameter (for example, the population mean).\n",
    "\n",
    "![images](https://cqeacademy.com/wp-content/uploads/2017/12/Point-Estimate-Interval-Estimate.jpg)"
   ]
  },
  {
   "cell_type": "markdown",
   "metadata": {},
   "source": [
    "### Margin of Error!!\n",
    "\n",
    "    2 * sigma / sqrt(n)\n",
    "    \n",
    "\n",
    "![images](https://www.cs.mcgill.ca/~rwest/wikispeedia/wpcd/images/263/26343.png)"
   ]
  },
  {
   "cell_type": "code",
   "execution_count": 3,
   "metadata": {},
   "outputs": [
    {
     "data": {
      "text/plain": [
       "5.422509698338162"
      ]
     },
     "execution_count": 3,
     "metadata": {},
     "output_type": "execute_result"
    }
   ],
   "source": [
    "margin_of_error = 2 * sigma / sqrt(n)\n",
    "margin_of_error"
   ]
  },
  {
   "cell_type": "markdown",
   "metadata": {},
   "source": [
    "### Confidence Interval Bounds\n",
    "\n",
    "    mean + 2*sigma / sqrt_root(n) > mean > mean - 2*sigma / sqrt_root(n)"
   ]
  },
  {
   "cell_type": "code",
   "execution_count": 4,
   "metadata": {},
   "outputs": [
    {
     "name": "stdout",
     "output_type": "stream",
     "text": [
      "37.72 2.711254849169081\n"
     ]
    }
   ],
   "source": [
    "print(mean, sd)"
   ]
  },
  {
   "cell_type": "code",
   "execution_count": 5,
   "metadata": {},
   "outputs": [
    {
     "data": {
      "text/plain": [
       "(34.58, 45.42)"
      ]
     },
     "execution_count": 5,
     "metadata": {},
     "output_type": "execute_result"
    }
   ],
   "source": [
    "def confidence_interval_bounds(mean, se, samples=None):\n",
    "    \"\"\"\n",
    "         se: standard error!\n",
    "    \"\"\"\n",
    "    left = mean - (2 * se)\n",
    "    right  = mean + (2 * se)\n",
    "    \n",
    "    return (left, right)\n",
    "\n",
    "confidence_interval_bounds(40, 2.71)"
   ]
  },
  {
   "cell_type": "markdown",
   "metadata": {},
   "source": [
    "## Z-table"
   ]
  },
  {
   "cell_type": "code",
   "execution_count": 6,
   "metadata": {},
   "outputs": [
    {
     "name": "stdout",
     "output_type": "stream",
     "text": [
      "-1.9599639845400545 1.959963984540054\n"
     ]
    }
   ],
   "source": [
    "import scipy.stats as st\n",
    "\n",
    "# exact z score\n",
    "def exact_z_score(left, right):\n",
    "    left = st.norm.ppf(.025)\n",
    "    right = st.norm.ppf(.975)\n",
    "    \n",
    "    return (left, right)\n",
    "\n",
    "left, right = exact_z_score(.025, .975)\n",
    "print(left, right)"
   ]
  },
  {
   "cell_type": "markdown",
   "metadata": {},
   "source": [
    "#### 95% Exact CI"
   ]
  },
  {
   "cell_type": "code",
   "execution_count": 7,
   "metadata": {},
   "outputs": [
    {
     "name": "stdout",
     "output_type": "stream",
     "text": [
      "34.68603814271902 45.31396185728097\n"
     ]
    }
   ],
   "source": [
    "print(40 + (left * sd), 40 + (right * sd))"
   ]
  }
 ],
 "metadata": {
  "kernelspec": {
   "display_name": "Python 3",
   "language": "python",
   "name": "python3"
  },
  "language_info": {
   "codemirror_mode": {
    "name": "ipython",
    "version": 3
   },
   "file_extension": ".py",
   "mimetype": "text/x-python",
   "name": "python",
   "nbconvert_exporter": "python",
   "pygments_lexer": "ipython3",
   "version": "3.8.6"
  }
 },
 "nbformat": 4,
 "nbformat_minor": 4
}
