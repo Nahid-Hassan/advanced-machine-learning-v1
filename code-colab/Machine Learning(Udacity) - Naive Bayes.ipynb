{
 "cells": [
  {
   "cell_type": "markdown",
   "metadata": {},
   "source": [
    "## Naive Bayes"
   ]
  },
  {
   "cell_type": "code",
   "execution_count": null,
   "metadata": {},
   "outputs": [],
   "source": []
  },
  {
   "cell_type": "markdown",
   "metadata": {},
   "source": [
    "### Stat Quest\n",
    "\n",
    "[Naive Bayes](https://youtu.be/O2L2Uv9pdDA)"
   ]
  },
  {
   "cell_type": "code",
   "execution_count": 5,
   "metadata": {},
   "outputs": [
    {
     "name": "stdout",
     "output_type": "stream",
     "text": [
      "Counter({'dear': 8, 'friend': 5, 'lunch': 3, 'money': 1})\n",
      "{'dear': 0.47059, 'friend': 0.29412, 'lunch': 0.17647, 'money': 0.05882}\n",
      "Counter({'money': 4, 'dear': 2, 'friend': 1, 'lunch': 1})\n",
      "{'dear': 0.25, 'friend': 0.125, 'money': 0.5, 'lunch': 0.125}\n",
      "Normal: 0.31372666666666665, Spam: 0.08333333333333333\n",
      "Normal: 0.0922732872, Spam: 0.010416666666666666\n",
      "Normal: 0.005427514753104, Spam: 0.005208333333333333\n",
      "Normal: 0.00031924641777757726, Spam: 0.0026041666666666665\n",
      "0.00031924641777757726\n",
      "0.0026041666666666665\n",
      "Is text 'Dear Friend' is normal or spam?\n",
      "Answer:  Spam Text\n"
     ]
    }
   ],
   "source": [
    "# Naive Bayes\n",
    "from collections import Counter\n",
    "\n",
    "# read normal text file\n",
    "file = open('datasets/normal.txt', 'r')\n",
    "text = file.read()\n",
    "file.close()\n",
    "\n",
    "# split text\n",
    "text = text.lower()\n",
    "text = text.split()  # return list\n",
    "len_text = len(text)\n",
    "\n",
    "# create counter dict\n",
    "hist_dict_normal = Counter(text)\n",
    "print(hist_dict_normal)\n",
    "\n",
    "probability_dict_normal = {}\n",
    "\n",
    "for key, value in hist_dict_normal.items():\n",
    "    # p(Dear|Normal)\n",
    "    probability_dict_normal[key] = round(value / len_text, 5)\n",
    "\n",
    "print(probability_dict_normal)\n",
    "\n",
    "# read spam text file\n",
    "file = open('datasets/spam.txt', 'r')\n",
    "text = file.read()\n",
    "file.close()\n",
    "\n",
    "# split text\n",
    "text = text.lower()\n",
    "text = text.split()\n",
    "len_text = len(text)\n",
    "\n",
    "# hist_dict_spam\n",
    "hist_dict_spam = Counter(text)\n",
    "print(hist_dict_spam)\n",
    "\n",
    "probability_dict_spam = {}\n",
    "for key, value in hist_dict_spam.items():\n",
    "    # p(Dear|Spam)\n",
    "    probability_dict_spam[key] = round(value / len_text, 5)\n",
    "\n",
    "# probability_dict_spam['lunch'] = 0\n",
    "print(probability_dict_spam)\n",
    "\n",
    "# Check text \"Dear Friend\" is normal or spam!!!!!!!!\n",
    "\n",
    "# p(normal) = 8 / 8 + 4\n",
    "# 8 is normal 4 is spam\n",
    "p_normal = 8 / (8 + 4)\n",
    "p_spam = 4 / (8 + 4)\n",
    "\n",
    "# p(normal | \"dear friend\")\n",
    "text = 'Dear Friend Money Money'\n",
    "text = text.lower()\n",
    "\n",
    "normal = p_normal\n",
    "spam = p_spam\n",
    "\n",
    "for t in text.lower().split():\n",
    "    normal *= probability_dict_normal[t]\n",
    "    spam *= probability_dict_spam[t]\n",
    "\n",
    "    print(\"Normal: \" + str(normal) + ', Spam: ' + str(spam))\n",
    "\n",
    "print(normal)\n",
    "print(spam)\n",
    "\n",
    "print(\"Is text 'Dear Friend' is normal or spam?\")\n",
    "print('Answer: ', end=' ')\n",
    "if normal > spam:\n",
    "    print(\"Normal Text\")\n",
    "elif spam > normal:\n",
    "    print(\"Spam Text\")\n",
    "else:\n",
    "    print(\"50-50\")"
   ]
  }
 ],
 "metadata": {
  "kernelspec": {
   "display_name": "Python 3",
   "language": "python",
   "name": "python3"
  },
  "language_info": {
   "codemirror_mode": {
    "name": "ipython",
    "version": 3
   },
   "file_extension": ".py",
   "mimetype": "text/x-python",
   "name": "python",
   "nbconvert_exporter": "python",
   "pygments_lexer": "ipython3",
   "version": "3.8.6"
  }
 },
 "nbformat": 4,
 "nbformat_minor": 4
}
