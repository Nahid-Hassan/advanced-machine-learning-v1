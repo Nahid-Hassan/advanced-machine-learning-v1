{
 "cells": [
  {
   "cell_type": "markdown",
   "metadata": {},
   "source": [
    "# Central Tendency\n",
    "\n",
    "In `statistics`, a `central tendency` (or measure of central tendency) is a `central` or `typical value` for a `probability distribution`. It may also be called a `center` or `location` of the `distribution`. ... The most common measures of central tendency are the arithmetic `mean`, the `median`, and the `mode`."
   ]
  },
  {
   "cell_type": "markdown",
   "metadata": {},
   "source": [
    "### Mode\n",
    "\n",
    "The mode is the most frequent observation (or observations) in a sample. If we have the sample `[4, 1, 2, 2, 3, 5]`, then its mode is `2` because `2` appears two times in the sample whereas the other elements only appear once.\n",
    "\n",
    "The mode doesn't have to be unique. Some samples have more than one mode. Say we have the sample `[4, 1, 2, 2, 3, 5, 4]`. This sample has two modes - `2` and `4` because they're the values that appear more often and both appear the same number of times.\n",
    "\n",
    "The mode is commonly used for `categorical` data. Common categorical data types are:\n",
    "\n",
    "- `boolean` - Can take only two values like in true or false, male or female\n",
    "- `nominal` - Can take more than two values like in American - European - Asian - African\n",
    "- `ordinal` - Can take more than two values but the values have a logical order like in few - some - many\n",
    "When we're analyzing a dataset of categorical data, we can use the mode to know which category is the most common in our data."
   ]
  },
  {
   "cell_type": "markdown",
   "metadata": {},
   "source": [
    "#### Using `statistics` Module"
   ]
  },
  {
   "cell_type": "code",
   "execution_count": 1,
   "metadata": {},
   "outputs": [
    {
     "data": {
      "text/plain": [
       "True"
      ]
     },
     "execution_count": 1,
     "metadata": {},
     "output_type": "execute_result"
    }
   ],
   "source": [
    "import statistics\n",
    "\n",
    "'mode' in dir(statistics) # cheak mode function is in statistics module?"
   ]
  },
  {
   "cell_type": "code",
   "execution_count": 3,
   "metadata": {},
   "outputs": [
    {
     "data": {
      "text/plain": [
       "1"
      ]
     },
     "execution_count": 3,
     "metadata": {},
     "output_type": "execute_result"
    }
   ],
   "source": [
    "statistics.mode([1,2,1,1,3,4,5,2,1,2,2,4,4])"
   ]
  },
  {
   "cell_type": "code",
   "execution_count": 4,
   "metadata": {},
   "outputs": [
    {
     "data": {
      "text/plain": [
       "[1, 2]"
      ]
     },
     "execution_count": 4,
     "metadata": {},
     "output_type": "execute_result"
    }
   ],
   "source": [
    "statistics.multimode([1,2,1,1,3,4,5,2,1,2,2,4,4])"
   ]
  },
  {
   "cell_type": "markdown",
   "metadata": {},
   "source": [
    "#### Using user-defined function"
   ]
  },
  {
   "cell_type": "code",
   "execution_count": 39,
   "metadata": {},
   "outputs": [],
   "source": [
    "def find_mode(sample):\n",
    "    val_counts_map = {}\n",
    "    \n",
    "    # count the frequency     \n",
    "    for samp in sample:\n",
    "        if samp in val_counts_map.keys():\n",
    "            val_counts_map[samp] += 1\n",
    "        else:\n",
    "            val_counts_map[samp] = 1\n",
    "    \n",
    "    \n",
    "    # find the max freq key\n",
    "    max_freq = max(val_counts_map.values())\n",
    "    \n",
    "    # multimode      \n",
    "    result = list()\n",
    "    for key, values in val_counts_map.items():\n",
    "        if max_freq == values:\n",
    "            result.append(key)\n",
    "    \n",
    "    return result"
   ]
  },
  {
   "cell_type": "code",
   "execution_count": 40,
   "metadata": {},
   "outputs": [
    {
     "data": {
      "text/plain": [
       "[1, 2]"
      ]
     },
     "execution_count": 40,
     "metadata": {},
     "output_type": "execute_result"
    }
   ],
   "source": [
    "find_mode([1,2,1,1,3,4,5,2,1,2,2,4,4])"
   ]
  },
  {
   "cell_type": "markdown",
   "metadata": {},
   "source": [
    "### Mean\n",
    "\n",
    "If we have a sample of numeric values, then its `mean` or the `average` is the `total sum of the values` (or observations) `divided` by the number of `values`.\n",
    "\n",
    "Say we have the sample `[4, 8, 6, 5, 3, 2, 8, 9, 2, 5]`. We can calculate its mean by performing the operation:\n",
    "\n",
    "`(4 + 8 + 6 + 5 + 3 + 2 + 8 + 9 + 2 + 5) / 10 = 5.2`"
   ]
  },
  {
   "cell_type": "code",
   "execution_count": 43,
   "metadata": {},
   "outputs": [
    {
     "data": {
      "text/plain": [
       "5.5"
      ]
     },
     "execution_count": 43,
     "metadata": {},
     "output_type": "execute_result"
    }
   ],
   "source": [
    "statistics.mean([1,2,3,4,5,6,7,8,9,10])"
   ]
  },
  {
   "cell_type": "code",
   "execution_count": 42,
   "metadata": {},
   "outputs": [
    {
     "data": {
      "text/plain": [
       "5.5"
      ]
     },
     "execution_count": 42,
     "metadata": {},
     "output_type": "execute_result"
    }
   ],
   "source": [
    "def find_mean(sample):\n",
    "    return sum(sample) / len(sample)\n",
    "\n",
    "find_mean([1,2,3,4,5,6,7,8,9,10])"
   ]
  },
  {
   "cell_type": "markdown",
   "metadata": {},
   "source": [
    "### Median\n",
    "\n",
    "The median is the middle number in a sorted, ascending or descending, list of numbers and can be more descriptive of that data set than the average. ... If there is an odd amount of numbers, the median value is the number that is in the middle, with the same amount of numbers below and above.\n",
    "\n",
    "|   |   |\n",
    "|---|---|\n",
    "|![median](https://upload.wikimedia.org/wikipedia/commons/thumb/c/cf/Finding_the_median.png/220px-Finding_the_median.png)   | ![median](https://www.gstatic.com/education/formulas2/355397047/en/median_formula.svg)  |\n"
   ]
  },
  {
   "cell_type": "code",
   "execution_count": 44,
   "metadata": {},
   "outputs": [
    {
     "data": {
      "text/plain": [
       "2"
      ]
     },
     "execution_count": 44,
     "metadata": {},
     "output_type": "execute_result"
    }
   ],
   "source": [
    "statistics.median([1,2,3,4,3,2,2,4,2])"
   ]
  },
  {
   "cell_type": "code",
   "execution_count": 50,
   "metadata": {},
   "outputs": [
    {
     "data": {
      "text/plain": [
       "3"
      ]
     },
     "execution_count": 50,
     "metadata": {},
     "output_type": "execute_result"
    }
   ],
   "source": [
    "sample = [1,2,3,4,5,6,1,4,2]\n",
    "\n",
    "def find_median(sample):\n",
    "    # first ordering the sample using sort function\n",
    "    sample.sort()\n",
    "    \n",
    "    if len(sample) % 2 == 0:\n",
    "        return (sample[len(sample) // 2] + sample[len(sample) // 2 + 1]) / 2\n",
    "    else:\n",
    "        return sample[len(sample) // 2]\n",
    "\n",
    "find_median(sample)"
   ]
  },
  {
   "cell_type": "code",
   "execution_count": 49,
   "metadata": {},
   "outputs": [
    {
     "data": {
      "text/plain": [
       "3"
      ]
     },
     "execution_count": 49,
     "metadata": {},
     "output_type": "execute_result"
    }
   ],
   "source": [
    "statistics.median([1,2,3,4,5,6,1,4,2])"
   ]
  },
  {
   "cell_type": "code",
   "execution_count": null,
   "metadata": {},
   "outputs": [],
   "source": []
  }
 ],
 "metadata": {
  "kernelspec": {
   "display_name": "Python 3",
   "language": "python",
   "name": "python3"
  },
  "language_info": {
   "codemirror_mode": {
    "name": "ipython",
    "version": 3
   },
   "file_extension": ".py",
   "mimetype": "text/x-python",
   "name": "python",
   "nbconvert_exporter": "python",
   "pygments_lexer": "ipython3",
   "version": "3.8.6"
  }
 },
 "nbformat": 4,
 "nbformat_minor": 4
}
