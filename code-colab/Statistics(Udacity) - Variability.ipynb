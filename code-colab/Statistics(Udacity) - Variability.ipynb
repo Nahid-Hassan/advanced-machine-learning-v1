{
 "cells": [
  {
   "cell_type": "markdown",
   "metadata": {},
   "source": [
    "### Calculate Range\n",
    "\n",
    "**Range**: is the difference between the maximum value and the minimum value observed."
   ]
  },
  {
   "cell_type": "code",
   "execution_count": 1,
   "metadata": {},
   "outputs": [],
   "source": [
    "def calculate_range(sample):\n",
    "    return max(sample) - min(sample)"
   ]
  },
  {
   "cell_type": "code",
   "execution_count": 2,
   "metadata": {},
   "outputs": [
    {
     "data": {
      "text/plain": [
       "[106150, 110010, 62725, 73340, 87815, 76235, 100360, 113870, 82025, 79130]"
      ]
     },
     "execution_count": 2,
     "metadata": {},
     "output_type": "execute_result"
    }
   ],
   "source": [
    "# generate random sample\n",
    "import random\n",
    "\n",
    "sample = [random.randint(50,120) * 965 for _ in range(10)]\n",
    "sample"
   ]
  },
  {
   "cell_type": "code",
   "execution_count": 3,
   "metadata": {},
   "outputs": [
    {
     "data": {
      "text/plain": [
       "51145"
      ]
     },
     "execution_count": 3,
     "metadata": {},
     "output_type": "execute_result"
    }
   ],
   "source": [
    "calculate_range(sample)"
   ]
  },
  {
   "cell_type": "code",
   "execution_count": 4,
   "metadata": {},
   "outputs": [
    {
     "data": {
      "text/plain": [
       "array([90867.36823325, 46772.31684736, 47226.8151315 , 92198.40137546,\n",
       "       40025.621027  ,  7737.13563151, 81659.57389788,  9000.71355683,\n",
       "       20305.56382878, 45830.64992917, 80818.52637984, 22868.89202281,\n",
       "       81347.87860024, 76455.44917598, 57434.72382651,  9994.38963452,\n",
       "       58336.17637977, 50323.2917595 , 80400.12583704,  3608.47788391,\n",
       "       65463.30226545, 93369.74984421,  8225.26753806, 35781.87438819,\n",
       "        3934.77524753, 44000.42601933, 87888.54066687, 60145.32530038,\n",
       "       94266.8528537 , 72057.38160136, 26278.5313068 , 60586.45710941,\n",
       "       74141.90502452,  4142.12387322, 39860.90957687, 40106.87669058,\n",
       "       51665.29873183, 37345.7556007 , 36348.83944256, 73580.79547837,\n",
       "       37662.57589253, 53507.19544364, 80411.10015976, 48122.37499468,\n",
       "       74869.44903096, 19666.08526461, 55974.09493471, 63406.01711938,\n",
       "       67893.86496898, 41627.24066482, 18313.26853407, 46575.88603326,\n",
       "       55012.70162464, 88794.48455768, 96590.35044735, 60993.32011021,\n",
       "       52448.29834867, 25910.93964126, 17361.48918577, 14316.82860301,\n",
       "       87327.1488682 , 20626.44812371, 85701.74977908, 37545.81639573,\n",
       "       29008.17162966, 95325.33218738, 43963.04710246, 91141.88884362,\n",
       "       16988.42159353, 95782.08309396, 58961.32235228, 24997.36157789,\n",
       "       11796.91168431, 98681.64088251,  8498.29828294, 56094.03884068,\n",
       "       99079.98643836, 40984.808256  , 96958.07556179, 15034.91106706,\n",
       "       18942.44943154, 24182.05173567, 41368.12955554,  5207.82423775,\n",
       "       15337.14235471,  2067.14081815, 46466.97888203, 38992.13574804,\n",
       "       86953.08786574, 40826.21191149, 62585.97089987, 38086.92827838,\n",
       "       20824.36835204,  7100.83612034, 12883.3544331 , 82058.88167459,\n",
       "       45407.23324475, 34457.78861563, 61208.31024003, 54687.32427543])"
      ]
     },
     "execution_count": 4,
     "metadata": {},
     "output_type": "execute_result"
    }
   ],
   "source": [
    "# Generate random sample using numpy random.rand()\n",
    "import numpy as np\n",
    "\n",
    "sample = np.random.rand(100) * 100000 # 100 is the sample size\n",
    "sample"
   ]
  },
  {
   "cell_type": "markdown",
   "metadata": {},
   "source": [
    "### Calculate Q3 - Q1"
   ]
  },
  {
   "cell_type": "code",
   "execution_count": 5,
   "metadata": {},
   "outputs": [
    {
     "data": {
      "text/plain": [
       "10"
      ]
     },
     "execution_count": 5,
     "metadata": {},
     "output_type": "execute_result"
    }
   ],
   "source": [
    "sample = [38946, 43420, 49191, 50430, 50557, 52580, 53595, 54135, 60181, 10000000]\n",
    "len(sample)"
   ]
  },
  {
   "cell_type": "code",
   "execution_count": 6,
   "metadata": {},
   "outputs": [
    {
     "data": {
      "text/plain": [
       "4"
      ]
     },
     "execution_count": 6,
     "metadata": {},
     "output_type": "execute_result"
    }
   ],
   "source": [
    "# q2\n",
    "q2 = len(sample) // 2 - 1\n",
    "q2"
   ]
  },
  {
   "cell_type": "code",
   "execution_count": 7,
   "metadata": {},
   "outputs": [
    {
     "data": {
      "text/plain": [
       "0       38946\n",
       "1       43420\n",
       "2       49191\n",
       "3       50430\n",
       "4       50557\n",
       "5       52580\n",
       "6       53595\n",
       "7       54135\n",
       "8       60181\n",
       "9    10000000\n",
       "dtype: int64"
      ]
     },
     "execution_count": 7,
     "metadata": {},
     "output_type": "execute_result"
    }
   ],
   "source": [
    "import pandas as pd\n",
    "\n",
    "s = pd.Series([38946, 43420, 49191, 50430, 50557, 52580, 53595, 54135, 60181, 10000000])\n",
    "s"
   ]
  },
  {
   "cell_type": "code",
   "execution_count": 8,
   "metadata": {},
   "outputs": [
    {
     "data": {
      "text/plain": [
       "0.25    49500.75\n",
       "0.50    51568.50\n",
       "0.75    54000.00\n",
       "dtype: float64"
      ]
     },
     "execution_count": 8,
     "metadata": {},
     "output_type": "execute_result"
    }
   ],
   "source": [
    "s.quantile([0.25, 0.5, 0.75])"
   ]
  },
  {
   "cell_type": "markdown",
   "metadata": {},
   "source": [
    "### Quartiles, Quantiles and Percentiles\n",
    "\n",
    "Suppose you have a list of countries and their population. The quantile rank (and percentile rank) of your country correspond the fraction of countries with populations lower or equal than your country.\n",
    "\n",
    "The difference is that the quantile goes from 0 to 1, and the percentile goes from 0% to 100%.\n",
    "\n",
    "- 0.25 quantile = 25th percentile = lower quartile\n",
    "- 0.5 quantile = 50th percentile = median\n",
    "- 0.75 quantile = 75th percentile = upper quartile\n",
    "etc.\n"
   ]
  },
  {
   "cell_type": "code",
   "execution_count": 9,
   "metadata": {},
   "outputs": [
    {
     "data": {
      "text/plain": [
       "4499.25"
      ]
     },
     "execution_count": 9,
     "metadata": {},
     "output_type": "execute_result"
    }
   ],
   "source": [
    "import numpy as np\n",
    "\n",
    "#define array of data\n",
    "data = np.array([38946, 43420, 49191, 50430, 50557, 52580, 53595, 54135, 60181, 10000000])\n",
    "\n",
    "#calculate interquartile range \n",
    "q3, q1 = np.percentile(data, [75 ,25])\n",
    "iqr = q3 - q1\n",
    "\n",
    "#display interquartile range \n",
    "iqr"
   ]
  },
  {
   "cell_type": "code",
   "execution_count": 10,
   "metadata": {},
   "outputs": [],
   "source": [
    "def outlier(sample):\n",
    "    # calculate inter-quartile\n",
    "    q3, q1 = np.percentile(data, [75, 25])\n",
    "    iqr = q3 - q1\n",
    "    \n",
    "    outliers = ((q1 - 1.5 * iqr), (q3 + 1.5 * iqr))\n",
    "    return outliers"
   ]
  },
  {
   "cell_type": "code",
   "execution_count": 11,
   "metadata": {},
   "outputs": [
    {
     "name": "stdout",
     "output_type": "stream",
     "text": [
      "(42751.875, 60748.875)\n"
     ]
    }
   ],
   "source": [
    "print(outlier(data))"
   ]
  },
  {
   "cell_type": "markdown",
   "metadata": {},
   "source": [
    "### Boxplot"
   ]
  },
  {
   "cell_type": "code",
   "execution_count": 12,
   "metadata": {},
   "outputs": [
    {
     "data": {
      "text/plain": [
       "<AxesSubplot:xlabel='day', ylabel='total_bill'>"
      ]
     },
     "execution_count": 12,
     "metadata": {},
     "output_type": "execute_result"
    },
    {
     "data": {
      "image/png": "[encoded data removed]",
      "text/plain": [
       "<Figure size 432x288 with 1 Axes>"
      ]
     },
     "metadata": {},
     "output_type": "display_data"
    }
   ],
   "source": [
    "import seaborn as sns\n",
    "\n",
    "tips = pd.read_csv('datasets/tips.csv')\n",
    "\n",
    "# Draw a vertical boxplot grouped \n",
    "# by a categorical variable: \n",
    "sns.set_style(\"whitegrid\") \n",
    "\n",
    "sns.boxplot(x = 'day', y = 'total_bill', data = tips) "
   ]
  },
  {
   "cell_type": "code",
   "execution_count": 13,
   "metadata": {},
   "outputs": [],
   "source": [
    "sample_data = [33219, 36254, 38801,46335,46840,47546,55130,56863,78070,88830]"
   ]
  },
  {
   "cell_type": "code",
   "execution_count": 14,
   "metadata": {},
   "outputs": [
    {
     "data": {
      "text/plain": [
       "10"
      ]
     },
     "execution_count": 14,
     "metadata": {},
     "output_type": "execute_result"
    }
   ],
   "source": [
    "len(sample_data)"
   ]
  },
  {
   "cell_type": "code",
   "execution_count": 15,
   "metadata": {},
   "outputs": [
    {
     "data": {
      "text/plain": [
       "52788.8"
      ]
     },
     "execution_count": 15,
     "metadata": {},
     "output_type": "execute_result"
    }
   ],
   "source": [
    "def mean(sample_data):\n",
    "    return sum(sample_data) / len(sample_data)\n",
    "\n",
    "mean(sample_data)"
   ]
  },
  {
   "cell_type": "markdown",
   "metadata": {},
   "source": [
    "#### Deviation\n",
    "\n",
    "![](https://wikimedia.org/api/rest_v1/media/math/render/svg/61b5d9976a2a696f3c23ced5ad7a11b875d2a19d)"
   ]
  },
  {
   "cell_type": "code",
   "execution_count": 16,
   "metadata": {},
   "outputs": [
    {
     "name": "stdout",
     "output_type": "stream",
     "text": [
      "33219 - 52788.8 = -19569.8\n",
      "36254 - 52788.8 = -16534.8\n",
      "38801 - 52788.8 = -13987.8\n",
      "46335 - 52788.8 = -6453.8\n",
      "46840 - 52788.8 = -5948.8\n",
      "47546 - 52788.8 = -5242.8\n",
      "55130 - 52788.8 = 2341.2\n",
      "56863 - 52788.8 = 4074.2\n",
      "78070 - 52788.8 = 25281.2\n",
      "88830 - 52788.8 = 36041.2\n"
     ]
    }
   ],
   "source": [
    "mean_sample_data = mean(sample_data)\n",
    "\n",
    "toal_deviation = 0\n",
    "\n",
    "for data in sample_data:\n",
    "    print(f\"{data} - {mean_sample_data} = {round(data - mean_sample_data, 1)}\")\n",
    "    toal_deviation += data - mean_sample_data"
   ]
  },
  {
   "cell_type": "code",
   "execution_count": 17,
   "metadata": {},
   "outputs": [],
   "source": [
    "avg_deviation = toal_deviation // len(sample_data)"
   ]
  },
  {
   "cell_type": "code",
   "execution_count": 18,
   "metadata": {},
   "outputs": [
    {
     "data": {
      "text/plain": [
       "-1.0"
      ]
     },
     "execution_count": 18,
     "metadata": {},
     "output_type": "execute_result"
    }
   ],
   "source": [
    "avg_deviation"
   ]
  },
  {
   "cell_type": "markdown",
   "metadata": {},
   "source": [
    "### Standard Deviation\n",
    "\n",
    "SD, σ(sigma) = √variance = \n",
    "\n",
    "The variance for a discrete variable made up of n observations is defined as:\n",
    "\n",
    "![variance](https://www150.statcan.gc.ca/n1/edu/power-pouvoir/ch12/img/5214891_02.gif)\n",
    "    \n",
    "The standard deviation for a discrete variable made up of n observations is the positive square root of the variance and is defined as:\n",
    "\n",
    "![sd](https://www150.statcan.gc.ca/n1/edu/power-pouvoir/ch12/img/5214891_03.gif)\n",
    "\n",
    "[Variance and Standard Deviation](https://www150.statcan.gc.ca/n1/edu/power-pouvoir/ch12/5214891-eng.htm#:~:text=The%20variance%20(symbolized%20by%20S,mean%20of%20a%20data%20set.)"
   ]
  },
  {
   "cell_type": "markdown",
   "metadata": {},
   "source": [
    "#### Calculate Variance"
   ]
  },
  {
   "cell_type": "code",
   "execution_count": 19,
   "metadata": {},
   "outputs": [
    {
     "data": {
      "text/plain": [
       "291674943.36"
      ]
     },
     "execution_count": 19,
     "metadata": {},
     "output_type": "execute_result"
    }
   ],
   "source": [
    "sample_data = [33219, 36254, 38801,46335,46840,47546,55130,56863,78070,88830]\n",
    "\n",
    "def variance(sample_data):\n",
    "    # calculate mean\n",
    "    mean = sum(sample_data) / len(sample_data)\n",
    "    # total data point\n",
    "    total_element = len(sample_data)\n",
    "    \n",
    "    sum_squared_deviation = 0\n",
    "    for data in sample_data:\n",
    "        sum_squared_deviation += (data - mean) ** 2\n",
    "    \n",
    "    # avg_squared dev\n",
    "    return sum_squared_deviation / total_element\n",
    "\n",
    "variance(sample_data)"
   ]
  },
  {
   "cell_type": "markdown",
   "metadata": {},
   "source": [
    "#### Calculate SD"
   ]
  },
  {
   "cell_type": "code",
   "execution_count": 20,
   "metadata": {},
   "outputs": [],
   "source": [
    "import math\n",
    "\n",
    "sd = math.sqrt(variance(sample_data))"
   ]
  },
  {
   "cell_type": "code",
   "execution_count": 21,
   "metadata": {},
   "outputs": [
    {
     "data": {
      "text/plain": [
       "17078.49359164912"
      ]
     },
     "execution_count": 21,
     "metadata": {},
     "output_type": "execute_result"
    }
   ],
   "source": [
    "sd"
   ]
  },
  {
   "cell_type": "markdown",
   "metadata": {},
   "source": [
    "#### Using Pandas "
   ]
  },
  {
   "cell_type": "code",
   "execution_count": 22,
   "metadata": {},
   "outputs": [],
   "source": [
    "s = pd.Series(sample_data)"
   ]
  },
  {
   "cell_type": "code",
   "execution_count": 23,
   "metadata": {},
   "outputs": [
    {
     "data": {
      "text/plain": [
       "324083270.4"
      ]
     },
     "execution_count": 23,
     "metadata": {},
     "output_type": "execute_result"
    }
   ],
   "source": [
    "s.var()"
   ]
  },
  {
   "cell_type": "code",
   "execution_count": 24,
   "metadata": {},
   "outputs": [
    {
     "data": {
      "text/plain": [
       "18002.312918066946"
      ]
     },
     "execution_count": 24,
     "metadata": {},
     "output_type": "execute_result"
    }
   ],
   "source": [
    "s.std()"
   ]
  },
  {
   "cell_type": "markdown",
   "metadata": {},
   "source": [
    "#### Quiz - Solution"
   ]
  },
  {
   "cell_type": "code",
   "execution_count": 25,
   "metadata": {},
   "outputs": [],
   "source": [
    "sample_data = [38946, 43420, 49191, 50430, 50557, 52580, 53595, 54135, 60181, 62076]"
   ]
  },
  {
   "cell_type": "code",
   "execution_count": 26,
   "metadata": {},
   "outputs": [
    {
     "data": {
      "text/plain": [
       "47773766.76666667"
      ]
     },
     "execution_count": 26,
     "metadata": {},
     "output_type": "execute_result"
    }
   ],
   "source": [
    "pd.Series(sample_data).var()"
   ]
  },
  {
   "cell_type": "code",
   "execution_count": 28,
   "metadata": {},
   "outputs": [
    {
     "data": {
      "text/plain": [
       "6911.8569694884945"
      ]
     },
     "execution_count": 28,
     "metadata": {},
     "output_type": "execute_result"
    }
   ],
   "source": [
    "pd.Series(sample_data).std()"
   ]
  },
  {
   "cell_type": "code",
   "execution_count": 29,
   "metadata": {},
   "outputs": [],
   "source": [
    "def std(sample_data):\n",
    "    mean = sum(sample_data) / len(sample_data)\n",
    "    total = 0\n",
    "    for data in sample_data:\n",
    "        total += (data - mean) ** 2\n",
    "    return math.sqrt(total / len(sample_data))"
   ]
  },
  {
   "cell_type": "code",
   "execution_count": 30,
   "metadata": {},
   "outputs": [
    {
     "data": {
      "text/plain": [
       "6557.163265467774"
      ]
     },
     "execution_count": 30,
     "metadata": {},
     "output_type": "execute_result"
    }
   ],
   "source": [
    "std(sample_data)"
   ]
  },
  {
   "cell_type": "code",
   "execution_count": null,
   "metadata": {},
   "outputs": [],
   "source": []
  }
 ],
 "metadata": {
  "kernelspec": {
   "display_name": "Python 3",
   "language": "python",
   "name": "python3"
  },
  "language_info": {
   "codemirror_mode": {
    "name": "ipython",
    "version": 3
   },
   "file_extension": ".py",
   "mimetype": "text/x-python",
   "name": "python",
   "nbconvert_exporter": "python",
   "pygments_lexer": "ipython3",
   "version": "3.8.6"
  }
 },
 "nbformat": 4,
 "nbformat_minor": 4
}
